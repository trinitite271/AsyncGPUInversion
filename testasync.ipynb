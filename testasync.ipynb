{
 "cells": [
  {
   "cell_type": "code",
   "execution_count": 168,
   "id": "6a651d82",
   "metadata": {},
   "outputs": [],
   "source": [
    "import torch\n",
    "#import visdom\n",
    "from torch.utils.data import DataLoader\n",
    "from torchvision import transforms, datasets\n",
    "from torch import nn, optim\n",
    "\n",
    "import scipy.io as sio"
   ]
  },
  {
   "cell_type": "code",
   "execution_count": 56,
   "id": "67fd52ca",
   "metadata": {},
   "outputs": [],
   "source": [
    "def a2d_mod_abc24_snap(vp_RM,nbc,dx,nt,dt,s,sx,sz,gx,gz,isFS,fr):\n",
    "#  function [seis,wavefield]=a2d_mod_abc24_snap(v,nbc,dx,nt,dt,s,sx,sz,gx,gz,isFS,freq)\n",
    "    vp_RMmin=torch.min(vp_RM)\n",
    "    vp_RMmax=torch.max(vp_RM)\n",
    "    fh = 20*fr\n",
    "    gap = torch.fix((1/fh)/dt)  #1/20 个周期的情况下，  1/20 *T/dt\n",
    "    n_snap = torch.fix(nt/gap)\n",
    "    isnap = 0\n",
    "    gap=int(gap)\n",
    "    n_snap=int(n_snap)+1\n",
    "    seis=torch.zeros((nt,gx.numel()),device='cuda')\n",
    "    [nz,nx]=vp_RM.shape\n",
    "    wavefield = torch.zeros((n_snap,nz,nx))\n",
    "    wavefield.shape\n",
    "    ng = gx.numel()\n",
    "    ns = sx.numel()\n",
    "    c1 = -2.5; c2 = 4.0/3.0; c3 = -1.0/12.0; bc_len=3;\n",
    "    vp_RM_nbc=vp_RM\n",
    "    #扩展吸收边界=padvel\n",
    "    absorb_left=vp_RM_nbc[:,[1]].repeat(1,nbc)\n",
    "    vp_RM_nbc=torch.hstack((absorb_left,vp_RM_nbc))#组合\n",
    "    absorb_right=vp_RM_nbc[:,[-1]].repeat(1,nbc)\n",
    "    vp_RM_nbc=torch.hstack((vp_RM_nbc,absorb_right))\n",
    "    absorb_top=vp_RM_nbc[[1],:].repeat(nbc,1)\n",
    "    vp_RM_nbc=torch.vstack((absorb_top,vp_RM_nbc))\n",
    "    absorb_down=vp_RM_nbc[[-1],:].repeat(nbc,1)\n",
    "    vp_RM_nbc=torch.vstack((vp_RM_nbc,absorb_down))\n",
    "    [nzbc,nxbc]=vp_RM_nbc.shape\n",
    "    \n",
    "    a=(nbc-1)*dx\n",
    "    kappa = 3.0 * vp_RMmin * 16.118095650958320 / (2.0 * a)\n",
    "    # setup 1D BC damping array\n",
    "    damp1d=kappa*torch.pow(torch.arange(nbc,device='cuda')*dx/a,2)\n",
    "    # setup 2D BC damping array\n",
    "    damp=torch.zeros((nzbc,nxbc),device='cuda')\n",
    "    # divide the whole area to 9 zones, and 5th is the target zone\n",
    "    #  1   |   2   |   3\n",
    "    #  ------------------\n",
    "    #  4   |   5   |   6\n",
    "    #  ------------------\n",
    "    #  7   |   8   |   9\n",
    "    # fulltill zone 1, 4, 7 and 3, 6, 9\n",
    "    for iz in range(nzbc):\n",
    "        damp[iz,0:nbc]=torch.flip(damp1d,dims=[0])\n",
    "        damp[iz,nx+nbc:nx+2*nbc]=damp1d\n",
    "    # full fill zone 2 and 8\n",
    "    for ix in range(nbc,nbc+nx):\n",
    "        damp[0:nbc,ix]=torch.flip(damp1d,dims=[0])\n",
    "        damp[nbc+nz:nz+2*nbc,ix]=damp1d\n",
    "    abc=damp\n",
    "    alpha=torch.pow((vp_RM_nbc*dt/dx),2)#alpha 拓展边界后的速度场*dt；kappa\n",
    "    kappa=abc*dt\n",
    "    temp1 = torch.zeros((ns,nzbc,nxbc),device='cuda')\n",
    "    temp2 = torch.zeros((ns,nzbc,nxbc),device='cuda')\n",
    "    temp1=(2+2*c1*alpha-kappa).repeat(ns,nzbc,nxbc)\n",
    "    temp2=(1-kappa).repeat(ns,nzbc,nxbc)\n",
    "    \n",
    "    beta_dt = torch.pow((vp_RM_nbc*dt),2)\n",
    "    #s=expand_source(s,nt);\n",
    "    #sx=1#临时\n",
    "    #sz=1#临时\n",
    "    #set and adjust the free surface position\n",
    "    isx=(torch.round(sx/dx)+1+nbc)\n",
    "    isz=(torch.round(sz/dx)+1+nbc)\n",
    "    igx=(torch.round(gx/dx)+1+nbc)\n",
    "    igz=(torch.round(gz/dx)+1+nbc)\n",
    "    p1=torch.zeros((ns,nzbc,nxbc),device='cuda')\n",
    "    p0=torch.zeros((ns,nzbc,nxbc),device='cuda')\n",
    "    isnap=0 #临时\n",
    "    for it in range(nt):\n",
    "        p=temp1*p1-temp2*p0+alpha \\\n",
    "            *(c2*(torch.roll(p1,1,1)+torch.roll(p1,-1,1)+torch.roll(p1,1,0)+torch.roll(p1,-1,0)) \\\n",
    "            +c3*(torch.roll(p1,2,1)+torch.roll(p1,-2,1)+torch.roll(p1,2,0)+torch.roll(p1,-2,0)))\n",
    "        p[isz,isx] = p[isz,isx] + beta_dt[isz,isx] * s[it]\n",
    "        if isFS==1:\n",
    "            p[nbc,:]=0.0\n",
    "            p[nbc-1:-1:nbc-2,:] = - p[nbc+1:nbc+2,:]\n",
    "\n",
    "        for ig in range(ng):\n",
    "            seis[it,ig]=p[igz[ig].type(torch.int),igx[ig].type(torch.int)]#记录第一层\n",
    "#         print(seis.device)\n",
    "#         print(p.device)\n",
    "        if it%gap ==1:#一个gap记录一次\n",
    "            wavefield[isnap,:,:] = p[nbc:nbc+nz,nbc:nbc+nx]\n",
    "            isnap = isnap +1\n",
    "\n",
    "        p0=p1\n",
    "        p1=p\n",
    "    return seis,wavefield\n",
    "#######################################"
   ]
  },
  {
   "cell_type": "code",
   "execution_count": null,
   "id": "faec0e99",
   "metadata": {},
   "outputs": [],
   "source": []
  },
  {
   "cell_type": "code",
   "execution_count": 3,
   "id": "b16a45c1",
   "metadata": {},
   "outputs": [
    {
     "name": "stderr",
     "output_type": "stream",
     "text": [
      "C:\\Users\\zc\\AppData\\Local\\Programs\\Python\\Python310\\lib\\site-packages\\torch\\functional.py:568: UserWarning: torch.meshgrid: in an upcoming release, it will be required to pass the indexing argument. (Triggered internally at  ..\\aten\\src\\ATen\\native\\TensorShape.cpp:2228.)\n",
      "  return _VF.meshgrid(tensors, **kwargs)  # type: ignore[attr-defined]\n"
     ]
    }
   ],
   "source": [
    "#参数设置\n",
    "# model1=torch.zeros([26,120])\n",
    "# model1[0:12,:]=1000\n",
    "# model1[12:26,:]=2500    #普通测试模型\n",
    "model_list = sio.loadmat('model.mat')\n",
    "vp_RM = torch.from_numpy(model_list['model3'].astype('float32'))\n",
    "# vp_RM = model1\n",
    "[nz,nx]=vp_RM.shape  #nz：深度网格点数，nx测线方向网格点数\n",
    "x = torch.arange(nx)  # len = 10\n",
    "y = torch.arange(nz)  # len = 6\n",
    "X, Y = torch.meshgrid(x, y)\n",
    "nbc=40                  #吸收边界长\n",
    "dx=1                    #一网格点对应深度\n",
    "dt=dx/torch.max(vp_RM)*0.5  #公式\n",
    "torch.min(vp_RM)\n",
    "nt=torch.floor(nx*dx/torch.min(vp_RM)/dt+300) #公式，不能过短\n",
    "nt=int(nt)\n",
    "\n",
    "#ricker\n",
    "#[s,~]=ricker(fr,dt,nt)\n",
    "fr=30              #频率\n",
    "nw=2.2/fr/dt         #2.2？？？\n",
    "nw=2*torch.floor(nw/2)+1\n",
    "nc=torch.floor(nw/2)\n",
    "k=torch.arange(1,nw,1)\n",
    "alpha = (nc-k+1)*fr*dt*torch.pi\n",
    "beta=alpha**2\n",
    "w0 = (1.-beta**2)*torch.exp(-beta)  #ricker子波\n",
    "s=torch.zeros((nt))\n",
    "s[0:w0.numel()]=w0\n",
    "########\n",
    "ds=8\n",
    "sx=torch.arange(0,nx,ds)\n",
    "sz=torch.zeros(sx.shape)+1      #炮点位置\n",
    "ns=sx.numel()\n",
    "dg=2\n",
    "gx=torch.arange(0,nx,dg)\n",
    "ng=gx.numel()\n",
    "gz=torch.zeros(gx.shape)+1\n",
    "isFS=1\n",
    "\n",
    "seismo_v_d=torch.zeros((ns,nt,ng)).to('cuda')"
   ]
  },
  {
   "cell_type": "code",
   "execution_count": 9,
   "id": "7343a483",
   "metadata": {},
   "outputs": [
    {
     "name": "stdout",
     "output_type": "stream",
     "text": [
      "vp_RM\n",
      "s\n",
      "sx\n",
      "sz\n",
      "gx\n",
      "gz\n"
     ]
    }
   ],
   "source": [
    "for le in ['vp_RM','s','sx','sz','gx','gz']:\n",
    "    print(le)\n",
    "    exec(le + '=' + le + '.to(\"cuda:0\")')"
   ]
  },
  {
   "cell_type": "code",
   "execution_count": 188,
   "id": "6725e99d",
   "metadata": {},
   "outputs": [],
   "source": [
    "ax = torch.tensor([r for r in range(1,25,2)])"
   ]
  },
  {
   "cell_type": "code",
   "execution_count": 211,
   "id": "9972e5ec",
   "metadata": {},
   "outputs": [
    {
     "ename": "ValueError",
     "evalue": "only one element tensors can be converted to Python scalars",
     "output_type": "error",
     "traceback": [
      "\u001b[1;31m---------------------------------------------------------------------------\u001b[0m",
      "\u001b[1;31mValueError\u001b[0m                                Traceback (most recent call last)",
      "Input \u001b[1;32mIn [211]\u001b[0m, in \u001b[0;36m<cell line: 1>\u001b[1;34m()\u001b[0m\n\u001b[1;32m----> 1\u001b[0m \u001b[38;5;28mslice\u001b[39m(\u001b[38;5;28;43mint\u001b[39;49m\u001b[43m(\u001b[49m\u001b[43max\u001b[49m\u001b[43m)\u001b[49m\u001b[38;5;241m.\u001b[39mtype(torch\u001b[38;5;241m.\u001b[39mint))\n",
      "\u001b[1;31mValueError\u001b[0m: only one element tensors can be converted to Python scalars"
     ]
    }
   ],
   "source": [
    "slice(ax.type(torch.int))"
   ]
  },
  {
   "cell_type": "code",
   "execution_count": 210,
   "id": "9f37f313",
   "metadata": {},
   "outputs": [
    {
     "ename": "TypeError",
     "evalue": "only integer tensors of a single element can be converted to an index",
     "output_type": "error",
     "traceback": [
      "\u001b[1;31m---------------------------------------------------------------------------\u001b[0m",
      "\u001b[1;31mTypeError\u001b[0m                                 Traceback (most recent call last)",
      "Input \u001b[1;32mIn [210]\u001b[0m, in \u001b[0;36m<cell line: 1>\u001b[1;34m()\u001b[0m\n\u001b[1;32m----> 1\u001b[0m aa[\u001b[38;5;28mslice\u001b[39m(ax),\u001b[38;5;241m1\u001b[39m] \u001b[38;5;241m=\u001b[39m ax\n",
      "\u001b[1;31mTypeError\u001b[0m: only integer tensors of a single element can be converted to an index"
     ]
    }
   ],
   "source": [
    "aa[slice(ax),1] = ax"
   ]
  },
  {
   "cell_type": "code",
   "execution_count": 343,
   "id": "71979d5e",
   "metadata": {},
   "outputs": [],
   "source": [
    "aa = 1*torch.ones((26,220))\n",
    "bb = 1*torch.ones((26,220),device='cuda')"
   ]
  },
  {
   "cell_type": "code",
   "execution_count": 333,
   "id": "5699b178",
   "metadata": {},
   "outputs": [],
   "source": [
    "@torch.jit.script\n",
    "def mutiadd(xx,zz):\n",
    "    return xx + zz"
   ]
  },
  {
   "cell_type": "code",
   "execution_count": 334,
   "id": "49c486de",
   "metadata": {},
   "outputs": [],
   "source": [
    "@torch.jit.script\n",
    "def mutixx(xx):\n",
    "    for i in range(100000):\n",
    "        xx = xx*xx\n",
    "    return xx"
   ]
  },
  {
   "cell_type": "code",
   "execution_count": 355,
   "id": "c599541f",
   "metadata": {},
   "outputs": [],
   "source": [
    "@torch.jit.script\n",
    "def threadsafe(aa,oone):\n",
    "    # launch compute_z asynchronously:\n",
    "    fut = torch.jit._fork(mutixx, aa)\n",
    "    # execute the next operation in parallel to compute_z:\n",
    "    aa = aa + oone\n",
    "    # wait for the result of compute_z:\n",
    "    aa = torch.jit._wait(fut)\n",
    "    aa = aa + oone\n",
    "    return aa"
   ]
  },
  {
   "cell_type": "code",
   "execution_count": 356,
   "id": "30dde32d",
   "metadata": {},
   "outputs": [
    {
     "data": {
      "text/plain": [
       "tensor([[2., 2., 2.,  ..., 2., 2., 2.],\n",
       "        [2., 2., 2.,  ..., 2., 2., 2.],\n",
       "        [2., 2., 2.,  ..., 2., 2., 2.],\n",
       "        ...,\n",
       "        [2., 2., 2.,  ..., 2., 2., 2.],\n",
       "        [2., 2., 2.,  ..., 2., 2., 2.],\n",
       "        [2., 2., 2.,  ..., 2., 2., 2.]])"
      ]
     },
     "execution_count": 356,
     "metadata": {},
     "output_type": "execute_result"
    }
   ],
   "source": [
    "threadsafe(aa,torch.ones((26,220)))"
   ]
  },
  {
   "cell_type": "code",
   "execution_count": 354,
   "id": "4152e0b9",
   "metadata": {},
   "outputs": [
    {
     "data": {
      "text/plain": [
       "tensor([[1., 1., 1.,  ..., 1., 1., 1.],\n",
       "        [1., 1., 1.,  ..., 1., 1., 1.],\n",
       "        [1., 1., 1.,  ..., 1., 1., 1.],\n",
       "        ...,\n",
       "        [1., 1., 1.,  ..., 1., 1., 1.],\n",
       "        [1., 1., 1.,  ..., 1., 1., 1.],\n",
       "        [1., 1., 1.,  ..., 1., 1., 1.]])"
      ]
     },
     "execution_count": 354,
     "metadata": {},
     "output_type": "execute_result"
    }
   ],
   "source": [
    "aa = mutixx(aa)\n",
    "aa"
   ]
  },
  {
   "cell_type": "code",
   "execution_count": 346,
   "id": "03aac5b6",
   "metadata": {},
   "outputs": [],
   "source": [
    "@torch.jit.script\n",
    "def forward(bb,aa):\n",
    "    # launch compute_z asynchronously:\n",
    "    fut = torch.jit._fork(mutixx, bb)\n",
    "    # execute the next operation in parallel to compute_z:\n",
    "    aa = mutixx(aa)\n",
    "    # wait for the result of compute_z:\n",
    "    bb = torch.jit._wait(fut)\n",
    "    return aa, bb"
   ]
  },
  {
   "cell_type": "code",
   "execution_count": 330,
   "id": "2e3c3b33",
   "metadata": {},
   "outputs": [
    {
     "name": "stdout",
     "output_type": "stream",
     "text": [
      "程序运行时间:0.36302781105041504秒\n"
     ]
    }
   ],
   "source": [
    "T1 = time.time()\n",
    "forward(bb,aa)\n",
    "T2 = time.time()\n",
    "print('程序运行时间:%s秒' % ((T2 - T1)))"
   ]
  },
  {
   "cell_type": "code",
   "execution_count": 331,
   "id": "c80ec854",
   "metadata": {},
   "outputs": [
    {
     "name": "stdout",
     "output_type": "stream",
     "text": [
      "程序bb运行时间:0.24689888954162598秒\n",
      "程序aa运行时间:0.36602115631103516秒\n"
     ]
    }
   ],
   "source": [
    "T1 = time.time()\n",
    "bb = mutixx(bb)\n",
    "T2 = time.time()\n",
    "print('程序bb运行时间:%s秒' % ((T2 - T1)))\n",
    "T1 = time.time()\n",
    "aa = mutixx(aa)\n",
    "T2 = time.time()\n",
    "print('程序aa运行时间:%s秒' % ((T2 - T1)))\n",
    "# !nvidia-smi"
   ]
  },
  {
   "cell_type": "code",
   "execution_count": 115,
   "id": "3d3c835a",
   "metadata": {},
   "outputs": [
    {
     "name": "stdout",
     "output_type": "stream",
     "text": [
      "程序运行时间:7.973886728286743秒\n"
     ]
    }
   ],
   "source": [
    "T1 = time.time()\n",
    "for i in range(100000):\n",
    "    bb*bb\n",
    "    aa*aa\n",
    "T2 = time.time()\n",
    "print('程序运行时间:%s秒' % ((T2 - T1)))"
   ]
  },
  {
   "cell_type": "code",
   "execution_count": 29,
   "id": "40c413f9",
   "metadata": {},
   "outputs": [
    {
     "data": {
      "text/plain": [
       "tensor(0, device='cuda:0')"
      ]
     },
     "execution_count": 29,
     "metadata": {},
     "output_type": "execute_result"
    }
   ],
   "source": [
    "sx[i]"
   ]
  },
  {
   "cell_type": "code",
   "execution_count": 53,
   "id": "7b13120e",
   "metadata": {},
   "outputs": [],
   "source": [
    "i=0\n",
    "seismo_v_d[i,:,:],wavefield_d=a2d_mod_abc24_snap(vp_RM,nbc,dx,nt,dt,s,sx[i],sz[i],gx,gz,isFS,fr)"
   ]
  },
  {
   "cell_type": "code",
   "execution_count": 57,
   "id": "24a31cbd",
   "metadata": {},
   "outputs": [
    {
     "name": "stdout",
     "output_type": "stream",
     "text": [
      "程序运行时间:12.350677490234375秒\n"
     ]
    }
   ],
   "source": [
    "import time\n",
    "T1 = time.time()\n",
    "seismo_v_d[i,:,:],wavefield_d=a2d_mod_abc24_snap(vp_RM,nbc,dx,nt,dt,s,sx[i],sz[i],gx,gz,isFS,fr)\n",
    "# wavefield_d.to('cpu')\n",
    "for j in range(1000000):\n",
    "    aa*aa\n",
    "T2 = time.time()\n",
    "print('程序运行时间:%s秒' % ((T2 - T1)))"
   ]
  },
  {
   "cell_type": "code",
   "execution_count": 58,
   "id": "57ffeeef",
   "metadata": {},
   "outputs": [
    {
     "name": "stdout",
     "output_type": "stream",
     "text": [
      "程序运行时间:8.399077415466309秒\n"
     ]
    }
   ],
   "source": [
    "import time\n",
    "T1 = time.time()\n",
    "seismo_v_d[i,:,:],wavefield_d=a2d_mod_abc24_snap(vp_RM,nbc,dx,nt,dt,s,sx[i],sz[i],gx,gz,isFS,fr)\n",
    "# wavefield_d.to('cpu')\n",
    "torch.cuda.synchronize()\n",
    "T2 = time.time()\n",
    "print('程序运行时间:%s秒' % ((T2 - T1)))"
   ]
  },
  {
   "cell_type": "code",
   "execution_count": null,
   "id": "c60ac7c9",
   "metadata": {},
   "outputs": [],
   "source": []
  }
 ],
 "metadata": {
  "kernelspec": {
   "display_name": "Python 3 (ipykernel)",
   "language": "python",
   "name": "python3"
  },
  "language_info": {
   "codemirror_mode": {
    "name": "ipython",
    "version": 3
   },
   "file_extension": ".py",
   "mimetype": "text/x-python",
   "name": "python",
   "nbconvert_exporter": "python",
   "pygments_lexer": "ipython3",
   "version": "3.10.4"
  },
  "varInspector": {
   "cols": {
    "lenName": 16,
    "lenType": 16,
    "lenVar": 40
   },
   "kernels_config": {
    "python": {
     "delete_cmd_postfix": "",
     "delete_cmd_prefix": "del ",
     "library": "var_list.py",
     "varRefreshCmd": "print(var_dic_list())"
    },
    "r": {
     "delete_cmd_postfix": ") ",
     "delete_cmd_prefix": "rm(",
     "library": "var_list.r",
     "varRefreshCmd": "cat(var_dic_list()) "
    }
   },
   "oldHeight": 328.85,
   "position": {
    "height": "40px",
    "left": "754px",
    "right": "20px",
    "top": "120px",
    "width": "250px"
   },
   "types_to_exclude": [
    "module",
    "function",
    "builtin_function_or_method",
    "instance",
    "_Feature"
   ],
   "varInspector_section_display": "none",
   "window_display": true
  }
 },
 "nbformat": 4,
 "nbformat_minor": 5
}
